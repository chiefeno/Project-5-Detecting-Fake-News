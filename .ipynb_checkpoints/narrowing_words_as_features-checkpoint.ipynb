{
 "cells": [
  {
   "cell_type": "code",
   "execution_count": 3,
   "metadata": {},
   "outputs": [],
   "source": [
    "import pandas as pd\n",
    "\n",
    "from sklearn.feature_extraction.text import CountVectorizer, TfidfVectorizer\n",
    "from nltk.stem import PorterStemmer\n",
    "from scipy import sparse"
   ]
  },
  {
   "cell_type": "code",
   "execution_count": 2,
   "metadata": {},
   "outputs": [],
   "source": [
    "X_train = pd.read_csv('X_train.csv')\n",
    "X_test = pd.read_csv('X_test.csv')\n",
    "y_train = pd.read_csv('y_train.csv')\n",
    "y_test = pd.read_csv('y_test.csv')\n",
    "\n",
    "y_train['train_dataset'] = 1\n",
    "y_test['train_dataset'] = 0\n",
    "\n",
    "X = pd.concat([X_train, X_test])\n",
    "y = pd.concat([y_train, y_test])\n",
    "\n",
    "X.reset_index(drop=True, inplace=True)\n",
    "y.reset_index(drop=True, inplace=True)\n",
    "\n",
    "df = pd.concat([X, y], axis = 1)\n",
    "\n",
    "vec_df = pd.read_csv('elliot_vec_df.csv')"
   ]
  },
  {
   "cell_type": "code",
   "execution_count": 4,
   "metadata": {
    "scrolled": true
   },
   "outputs": [
    {
     "name": "stdout",
     "output_type": "stream",
     "text": [
      "  (0, 896)\t1\n",
      "  (0, 932)\t3\n",
      "  (0, 934)\t1\n",
      "  (0, 1848)\t1\n",
      "  (0, 1873)\t1\n",
      "  (0, 2403)\t1\n",
      "  (0, 3109)\t1\n",
      "  (0, 3385)\t1\n",
      "  (0, 3567)\t1\n",
      "  (0, 3571)\t1\n",
      "  (0, 3575)\t1\n",
      "  (0, 3618)\t1\n",
      "  (0, 4280)\t1\n",
      "  (0, 4493)\t1\n",
      "  (0, 4567)\t1\n",
      "  (0, 5495)\t1\n",
      "  (0, 5722)\t1\n",
      "  (0, 5744)\t1\n",
      "  (0, 6039)\t1\n",
      "  (0, 6084)\t1\n",
      "  (0, 6386)\t1\n",
      "  (0, 6391)\t1\n",
      "  (0, 6457)\t1\n",
      "  (0, 6481)\t1\n",
      "  (0, 6957)\t1\n",
      "  :\t:\n",
      "  (49, 25895)\t1\n",
      "  (49, 25986)\t3\n",
      "  (49, 26237)\t1\n",
      "  (49, 26359)\t1\n",
      "  (49, 26456)\t11\n",
      "  (49, 26465)\t1\n",
      "  (49, 26536)\t5\n",
      "  (49, 26538)\t6\n",
      "  (49, 26547)\t1\n",
      "  (49, 26795)\t1\n",
      "  (49, 26944)\t3\n",
      "  (49, 27153)\t1\n",
      "  (49, 27291)\t2\n",
      "  (49, 27487)\t1\n",
      "  (49, 27559)\t5\n",
      "  (49, 27840)\t1\n",
      "  (49, 27897)\t1\n",
      "  (49, 27948)\t1\n",
      "  (49, 27956)\t1\n",
      "  (49, 28085)\t1\n",
      "  (49, 28206)\t1\n",
      "  (49, 28250)\t1\n",
      "  (49, 28270)\t1\n",
      "  (49, 28333)\t6\n",
      "  (49, 28342)\t1\n"
     ]
    }
   ],
   "source": [
    "sparse_vec = sparse.csr_matrix(vec_df)\n",
    "print(sparse_vec[:50])"
   ]
  },
  {
   "cell_type": "code",
   "execution_count": 7,
   "metadata": {},
   "outputs": [],
   "source": [
    "sparse.save_npz('sparse_vec_df.npz', sparse_vec)"
   ]
  },
  {
   "cell_type": "code",
   "execution_count": 9,
   "metadata": {},
   "outputs": [
    {
     "data": {
      "text/plain": [
       "<39858x28602 sparse matrix of type '<class 'numpy.int64'>'\n",
       "\twith 5222379 stored elements in Compressed Sparse Row format>"
      ]
     },
     "execution_count": 9,
     "metadata": {},
     "output_type": "execute_result"
    }
   ],
   "source": [
    "sparse.load_npz('sparse_vec_df.npz')"
   ]
  },
  {
   "cell_type": "code",
   "execution_count": null,
   "metadata": {},
   "outputs": [],
   "source": [
    "stemmer = PorterStemmer()\n",
    "\n",
    "word_list = vec_df.columns\n",
    "stemmed_words = list(set([stemmer.stem(word) for word in word_list]))\n"
   ]
  },
  {
   "cell_type": "code",
   "execution_count": null,
   "metadata": {},
   "outputs": [],
   "source": [
    "df['title_stemmed'] = [np.nan]*df.shape[0]\n",
    "\n",
    "for i, title in enumerate(list(df['title'])):\n",
    "    stemmed = []\n",
    "    for word in title.split(' '):\n",
    "        if word in word_list:\n",
    "            stem = stemmer.stem(word)\n",
    "            stemmed.append(stem)\n",
    "            \n",
    "    df.loc[i,'title_stemmed'] = ' '.join(stemmed)\n",
    "    if (i % 1000) == 0:\n",
    "        print(i)\n"
   ]
  },
  {
   "cell_type": "code",
   "execution_count": null,
   "metadata": {},
   "outputs": [],
   "source": [
    "df['text_stemmed'] = [np.nan]*df.shape[0]\n",
    "\n",
    "for i, text in enumerate(list(df['text'])):\n",
    "    stemmed = []\n",
    "    for word in text.split(' '):\n",
    "        if word in word_list:\n",
    "            stem = stemmer.stem(word)\n",
    "            stemmed.append(stem)\n",
    "            \n",
    "    df.loc[i,'text_stemmed'] = ' '.join(stemmed)\n",
    "    if (i % 1000) == 0:\n",
    "        print(i)"
   ]
  }
 ],
 "metadata": {
  "kernelspec": {
   "display_name": "Python 3",
   "language": "python",
   "name": "python3"
  },
  "language_info": {
   "codemirror_mode": {
    "name": "ipython",
    "version": 3
   },
   "file_extension": ".py",
   "mimetype": "text/x-python",
   "name": "python",
   "nbconvert_exporter": "python",
   "pygments_lexer": "ipython3",
   "version": "3.8.5"
  }
 },
 "nbformat": 4,
 "nbformat_minor": 4
}
