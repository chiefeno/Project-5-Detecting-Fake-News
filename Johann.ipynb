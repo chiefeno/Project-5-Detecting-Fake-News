{
 "cells": [
  {
   "cell_type": "markdown",
   "metadata": {},
   "source": [
    "# Jeb!"
   ]
  },
  {
   "cell_type": "code",
   "execution_count": 1,
   "metadata": {},
   "outputs": [],
   "source": [
    "import pandas as pd\n",
    "import matplotlib.pyplot as plt\n",
    "import seaborn as sns\n",
    "from sklearn.feature_extraction.text import CountVectorizer"
   ]
  },
  {
   "cell_type": "code",
   "execution_count": 2,
   "metadata": {},
   "outputs": [],
   "source": [
    "df = pd.read_csv('cleaning.csv')"
   ]
  },
  {
   "cell_type": "code",
   "execution_count": 3,
   "metadata": {},
   "outputs": [
    {
     "data": {
      "text/html": [
       "<div>\n",
       "<style scoped>\n",
       "    .dataframe tbody tr th:only-of-type {\n",
       "        vertical-align: middle;\n",
       "    }\n",
       "\n",
       "    .dataframe tbody tr th {\n",
       "        vertical-align: top;\n",
       "    }\n",
       "\n",
       "    .dataframe thead th {\n",
       "        text-align: right;\n",
       "    }\n",
       "</style>\n",
       "<table border=\"1\" class=\"dataframe\">\n",
       "  <thead>\n",
       "    <tr style=\"text-align: right;\">\n",
       "      <th></th>\n",
       "      <th>Unnamed: 0</th>\n",
       "      <th>title</th>\n",
       "      <th>text</th>\n",
       "      <th>date</th>\n",
       "      <th>is_true</th>\n",
       "      <th>domestic</th>\n",
       "    </tr>\n",
       "  </thead>\n",
       "  <tbody>\n",
       "    <tr>\n",
       "      <th>0</th>\n",
       "      <td>0</td>\n",
       "      <td>HILLARY RODHAM NIXON: A CANDIDATE WITH MORE BA...</td>\n",
       "      <td>The irony here isn t lost on us. Hillary is be...</td>\n",
       "      <td>2015-03-31</td>\n",
       "      <td>0</td>\n",
       "      <td>1</td>\n",
       "    </tr>\n",
       "    <tr>\n",
       "      <th>1</th>\n",
       "      <td>1</td>\n",
       "      <td>FLASHBACK: KING OBAMA COMMUTES SENTENCES OF 22...</td>\n",
       "      <td>Just making room for Hillary President Obama t...</td>\n",
       "      <td>2015-03-31</td>\n",
       "      <td>0</td>\n",
       "      <td>1</td>\n",
       "    </tr>\n",
       "    <tr>\n",
       "      <th>2</th>\n",
       "      <td>2</td>\n",
       "      <td>APPLE’S CEO SAYS RELIGIOUS FREEDOM LAWS ARE ‘D...</td>\n",
       "      <td>The gay mafia has a new corporate  Don. This i...</td>\n",
       "      <td>2015-03-31</td>\n",
       "      <td>0</td>\n",
       "      <td>1</td>\n",
       "    </tr>\n",
       "    <tr>\n",
       "      <th>3</th>\n",
       "      <td>3</td>\n",
       "      <td>WATCH DIRTY HARRY REID ON HIS LIE ABOUT ROMNEY...</td>\n",
       "      <td>In case you missed it Sen. Harry Reid (R-NV), ...</td>\n",
       "      <td>2015-03-31</td>\n",
       "      <td>0</td>\n",
       "      <td>1</td>\n",
       "    </tr>\n",
       "    <tr>\n",
       "      <th>4</th>\n",
       "      <td>4</td>\n",
       "      <td>OH NO! GUESS WHO FUNDED THE SHRINE TO TED KENNEDY</td>\n",
       "      <td>Nothing like political cronyism to make your s...</td>\n",
       "      <td>2015-03-31</td>\n",
       "      <td>0</td>\n",
       "      <td>1</td>\n",
       "    </tr>\n",
       "    <tr>\n",
       "      <th>...</th>\n",
       "      <td>...</td>\n",
       "      <td>...</td>\n",
       "      <td>...</td>\n",
       "      <td>...</td>\n",
       "      <td>...</td>\n",
       "      <td>...</td>\n",
       "    </tr>\n",
       "    <tr>\n",
       "      <th>95</th>\n",
       "      <td>201</td>\n",
       "      <td>ELEMENTARY SCHOOL PLANS ‘BLACKS ONLY’ FIELD TR...</td>\n",
       "      <td>Because there wouldn t be any outrage over a  ...</td>\n",
       "      <td>2015-04-17</td>\n",
       "      <td>0</td>\n",
       "      <td>1</td>\n",
       "    </tr>\n",
       "    <tr>\n",
       "      <th>96</th>\n",
       "      <td>202</td>\n",
       "      <td>ONLY 25% OF DOWN SYNDROME BABIES ARE ALLOWED T...</td>\n",
       "      <td>Alan noticed his son liked to lay on his belly...</td>\n",
       "      <td>2015-04-17</td>\n",
       "      <td>0</td>\n",
       "      <td>1</td>\n",
       "    </tr>\n",
       "    <tr>\n",
       "      <th>97</th>\n",
       "      <td>203</td>\n",
       "      <td>WHY CHRISTIANS ARE ASKING THEIR FELLOW CHRISTI...</td>\n",
       "      <td>It s about time Rev. Patrick Mahoney, of Churc...</td>\n",
       "      <td>2015-04-18</td>\n",
       "      <td>0</td>\n",
       "      <td>1</td>\n",
       "    </tr>\n",
       "    <tr>\n",
       "      <th>98</th>\n",
       "      <td>205</td>\n",
       "      <td>WATCH WHAT HAPPENS WHEN COLLEGE STUDENTS ARE A...</td>\n",
       "      <td>Listen to the mind boggling answers to these q...</td>\n",
       "      <td>2015-04-19</td>\n",
       "      <td>0</td>\n",
       "      <td>1</td>\n",
       "    </tr>\n",
       "    <tr>\n",
       "      <th>99</th>\n",
       "      <td>207</td>\n",
       "      <td>(VIDEO) INNOCENT UNTIL PROVEN GUILTY? AIR FORC...</td>\n",
       "      <td>Whatever happened to innocent until proven gui...</td>\n",
       "      <td>2015-04-19</td>\n",
       "      <td>0</td>\n",
       "      <td>1</td>\n",
       "    </tr>\n",
       "  </tbody>\n",
       "</table>\n",
       "<p>100 rows × 6 columns</p>\n",
       "</div>"
      ],
      "text/plain": [
       "    Unnamed: 0                                              title  \\\n",
       "0            0  HILLARY RODHAM NIXON: A CANDIDATE WITH MORE BA...   \n",
       "1            1  FLASHBACK: KING OBAMA COMMUTES SENTENCES OF 22...   \n",
       "2            2  APPLE’S CEO SAYS RELIGIOUS FREEDOM LAWS ARE ‘D...   \n",
       "3            3  WATCH DIRTY HARRY REID ON HIS LIE ABOUT ROMNEY...   \n",
       "4            4  OH NO! GUESS WHO FUNDED THE SHRINE TO TED KENNEDY   \n",
       "..         ...                                                ...   \n",
       "95         201  ELEMENTARY SCHOOL PLANS ‘BLACKS ONLY’ FIELD TR...   \n",
       "96         202  ONLY 25% OF DOWN SYNDROME BABIES ARE ALLOWED T...   \n",
       "97         203  WHY CHRISTIANS ARE ASKING THEIR FELLOW CHRISTI...   \n",
       "98         205  WATCH WHAT HAPPENS WHEN COLLEGE STUDENTS ARE A...   \n",
       "99         207  (VIDEO) INNOCENT UNTIL PROVEN GUILTY? AIR FORC...   \n",
       "\n",
       "                                                 text        date  is_true  \\\n",
       "0   The irony here isn t lost on us. Hillary is be...  2015-03-31        0   \n",
       "1   Just making room for Hillary President Obama t...  2015-03-31        0   \n",
       "2   The gay mafia has a new corporate  Don. This i...  2015-03-31        0   \n",
       "3   In case you missed it Sen. Harry Reid (R-NV), ...  2015-03-31        0   \n",
       "4   Nothing like political cronyism to make your s...  2015-03-31        0   \n",
       "..                                                ...         ...      ...   \n",
       "95  Because there wouldn t be any outrage over a  ...  2015-04-17        0   \n",
       "96  Alan noticed his son liked to lay on his belly...  2015-04-17        0   \n",
       "97  It s about time Rev. Patrick Mahoney, of Churc...  2015-04-18        0   \n",
       "98  Listen to the mind boggling answers to these q...  2015-04-19        0   \n",
       "99  Whatever happened to innocent until proven gui...  2015-04-19        0   \n",
       "\n",
       "    domestic  \n",
       "0          1  \n",
       "1          1  \n",
       "2          1  \n",
       "3          1  \n",
       "4          1  \n",
       "..       ...  \n",
       "95         1  \n",
       "96         1  \n",
       "97         1  \n",
       "98         1  \n",
       "99         1  \n",
       "\n",
       "[100 rows x 6 columns]"
      ]
     },
     "execution_count": 3,
     "metadata": {},
     "output_type": "execute_result"
    }
   ],
   "source": [
    "df.head(100)"
   ]
  },
  {
   "cell_type": "code",
   "execution_count": 4,
   "metadata": {},
   "outputs": [
    {
     "data": {
      "text/plain": [
       "1484"
      ]
     },
     "execution_count": 4,
     "metadata": {},
     "output_type": "execute_result"
    }
   ],
   "source": [
    "df[df['is_true'] == 0]['text'].str.contains('liberal').sum()"
   ]
  },
  {
   "cell_type": "code",
   "execution_count": 5,
   "metadata": {},
   "outputs": [
    {
     "data": {
      "text/plain": [
       "640"
      ]
     },
     "execution_count": 5,
     "metadata": {},
     "output_type": "execute_result"
    }
   ],
   "source": [
    "df[df['is_true'] == 1]['text'].str.contains('liberal').sum()"
   ]
  },
  {
   "cell_type": "code",
   "execution_count": 6,
   "metadata": {},
   "outputs": [
    {
     "data": {
      "text/plain": [
       "8"
      ]
     },
     "execution_count": 6,
     "metadata": {},
     "output_type": "execute_result"
    }
   ],
   "source": [
    "df[df['is_true'] == 0]['text'].str.contains('Rolling Stones').sum()"
   ]
  },
  {
   "cell_type": "code",
   "execution_count": 7,
   "metadata": {},
   "outputs": [
    {
     "data": {
      "text/plain": [
       "5"
      ]
     },
     "execution_count": 7,
     "metadata": {},
     "output_type": "execute_result"
    }
   ],
   "source": [
    "df[df['is_true'] == 1]['text'].str.contains('Rolling Stones').sum()"
   ]
  },
  {
   "cell_type": "code",
   "execution_count": 8,
   "metadata": {},
   "outputs": [
    {
     "data": {
      "text/plain": [
       "1725"
      ]
     },
     "execution_count": 8,
     "metadata": {},
     "output_type": "execute_result"
    }
   ],
   "source": [
    "df[df['is_true'] == 0]['text'].str.contains('Fox').sum()"
   ]
  },
  {
   "cell_type": "code",
   "execution_count": 9,
   "metadata": {},
   "outputs": [
    {
     "data": {
      "text/plain": [
       "596"
      ]
     },
     "execution_count": 9,
     "metadata": {},
     "output_type": "execute_result"
    }
   ],
   "source": [
    "df[df['is_true'] == 1]['text'].str.contains('Fox').sum()"
   ]
  },
  {
   "cell_type": "code",
   "execution_count": 10,
   "metadata": {},
   "outputs": [],
   "source": [
    "df.text.replace({'\\d+': ''}, regex=True, inplace=True)"
   ]
  },
  {
   "cell_type": "code",
   "execution_count": 11,
   "metadata": {},
   "outputs": [
    {
     "data": {
      "text/plain": [
       "359"
      ]
     },
     "execution_count": 11,
     "metadata": {},
     "output_type": "execute_result"
    }
   ],
   "source": [
    "df[df['is_true'] == 0]['text'].str.contains('testimony').sum()"
   ]
  },
  {
   "cell_type": "code",
   "execution_count": 12,
   "metadata": {},
   "outputs": [
    {
     "data": {
      "text/plain": [
       "325"
      ]
     },
     "execution_count": 12,
     "metadata": {},
     "output_type": "execute_result"
    }
   ],
   "source": [
    "df[df['is_true'] == 1]['text'].str.contains('testimony').sum()"
   ]
  },
  {
   "cell_type": "code",
   "execution_count": 13,
   "metadata": {},
   "outputs": [
    {
     "data": {
      "text/plain": [
       "1741"
      ]
     },
     "execution_count": 13,
     "metadata": {},
     "output_type": "execute_result"
    }
   ],
   "source": [
    "df[df['is_true'] == 0]['text'].str.contains('CNN').sum()"
   ]
  },
  {
   "cell_type": "code",
   "execution_count": 14,
   "metadata": {},
   "outputs": [
    {
     "data": {
      "text/plain": [
       "617"
      ]
     },
     "execution_count": 14,
     "metadata": {},
     "output_type": "execute_result"
    }
   ],
   "source": [
    "df[df['is_true'] == 1]['text'].str.contains('CNN').sum()"
   ]
  },
  {
   "cell_type": "code",
   "execution_count": 15,
   "metadata": {},
   "outputs": [
    {
     "data": {
      "text/plain": [
       "1027"
      ]
     },
     "execution_count": 15,
     "metadata": {},
     "output_type": "execute_result"
    }
   ],
   "source": [
    "df[df['is_true'] == 0]['text'].str.contains('fake').sum()"
   ]
  },
  {
   "cell_type": "code",
   "execution_count": 16,
   "metadata": {},
   "outputs": [
    {
     "data": {
      "text/plain": [
       "237"
      ]
     },
     "execution_count": 16,
     "metadata": {},
     "output_type": "execute_result"
    }
   ],
   "source": [
    "df[df['is_true'] == 1]['text'].str.contains('fake').sum()"
   ]
  },
  {
   "cell_type": "code",
   "execution_count": 18,
   "metadata": {},
   "outputs": [],
   "source": [
    "df['word_count_fake'] = df[df['is_true'] == 0]['text'].apply(lambda x: len(x.split()))"
   ]
  },
  {
   "cell_type": "code",
   "execution_count": 19,
   "metadata": {},
   "outputs": [],
   "source": [
    "df['word_count_true'] = df[df['is_true'] == 1]['text'].apply(lambda x: len(x.split()))"
   ]
  },
  {
   "cell_type": "code",
   "execution_count": 20,
   "metadata": {},
   "outputs": [
    {
     "data": {
      "text/html": [
       "<div>\n",
       "<style scoped>\n",
       "    .dataframe tbody tr th:only-of-type {\n",
       "        vertical-align: middle;\n",
       "    }\n",
       "\n",
       "    .dataframe tbody tr th {\n",
       "        vertical-align: top;\n",
       "    }\n",
       "\n",
       "    .dataframe thead th {\n",
       "        text-align: right;\n",
       "    }\n",
       "</style>\n",
       "<table border=\"1\" class=\"dataframe\">\n",
       "  <thead>\n",
       "    <tr style=\"text-align: right;\">\n",
       "      <th></th>\n",
       "      <th>Unnamed: 0</th>\n",
       "      <th>title</th>\n",
       "      <th>text</th>\n",
       "      <th>date</th>\n",
       "      <th>is_true</th>\n",
       "      <th>domestic</th>\n",
       "      <th>word_count_fake</th>\n",
       "      <th>word_count_true</th>\n",
       "    </tr>\n",
       "  </thead>\n",
       "  <tbody>\n",
       "    <tr>\n",
       "      <th>0</th>\n",
       "      <td>0</td>\n",
       "      <td>HILLARY RODHAM NIXON: A CANDIDATE WITH MORE BA...</td>\n",
       "      <td>The irony here isn t lost on us. Hillary is be...</td>\n",
       "      <td>2015-03-31</td>\n",
       "      <td>0</td>\n",
       "      <td>1</td>\n",
       "      <td>321.0</td>\n",
       "      <td>NaN</td>\n",
       "    </tr>\n",
       "    <tr>\n",
       "      <th>1</th>\n",
       "      <td>1</td>\n",
       "      <td>FLASHBACK: KING OBAMA COMMUTES SENTENCES OF 22...</td>\n",
       "      <td>Just making room for Hillary President Obama t...</td>\n",
       "      <td>2015-03-31</td>\n",
       "      <td>0</td>\n",
       "      <td>1</td>\n",
       "      <td>1120.0</td>\n",
       "      <td>NaN</td>\n",
       "    </tr>\n",
       "    <tr>\n",
       "      <th>2</th>\n",
       "      <td>2</td>\n",
       "      <td>APPLE’S CEO SAYS RELIGIOUS FREEDOM LAWS ARE ‘D...</td>\n",
       "      <td>The gay mafia has a new corporate  Don. This i...</td>\n",
       "      <td>2015-03-31</td>\n",
       "      <td>0</td>\n",
       "      <td>1</td>\n",
       "      <td>210.0</td>\n",
       "      <td>NaN</td>\n",
       "    </tr>\n",
       "    <tr>\n",
       "      <th>3</th>\n",
       "      <td>3</td>\n",
       "      <td>WATCH DIRTY HARRY REID ON HIS LIE ABOUT ROMNEY...</td>\n",
       "      <td>In case you missed it Sen. Harry Reid (R-NV), ...</td>\n",
       "      <td>2015-03-31</td>\n",
       "      <td>0</td>\n",
       "      <td>1</td>\n",
       "      <td>122.0</td>\n",
       "      <td>NaN</td>\n",
       "    </tr>\n",
       "    <tr>\n",
       "      <th>4</th>\n",
       "      <td>4</td>\n",
       "      <td>OH NO! GUESS WHO FUNDED THE SHRINE TO TED KENNEDY</td>\n",
       "      <td>Nothing like political cronyism to make your s...</td>\n",
       "      <td>2015-03-31</td>\n",
       "      <td>0</td>\n",
       "      <td>1</td>\n",
       "      <td>416.0</td>\n",
       "      <td>NaN</td>\n",
       "    </tr>\n",
       "  </tbody>\n",
       "</table>\n",
       "</div>"
      ],
      "text/plain": [
       "   Unnamed: 0                                              title  \\\n",
       "0           0  HILLARY RODHAM NIXON: A CANDIDATE WITH MORE BA...   \n",
       "1           1  FLASHBACK: KING OBAMA COMMUTES SENTENCES OF 22...   \n",
       "2           2  APPLE’S CEO SAYS RELIGIOUS FREEDOM LAWS ARE ‘D...   \n",
       "3           3  WATCH DIRTY HARRY REID ON HIS LIE ABOUT ROMNEY...   \n",
       "4           4  OH NO! GUESS WHO FUNDED THE SHRINE TO TED KENNEDY   \n",
       "\n",
       "                                                text        date  is_true  \\\n",
       "0  The irony here isn t lost on us. Hillary is be...  2015-03-31        0   \n",
       "1  Just making room for Hillary President Obama t...  2015-03-31        0   \n",
       "2  The gay mafia has a new corporate  Don. This i...  2015-03-31        0   \n",
       "3  In case you missed it Sen. Harry Reid (R-NV), ...  2015-03-31        0   \n",
       "4  Nothing like political cronyism to make your s...  2015-03-31        0   \n",
       "\n",
       "   domestic  word_count_fake  word_count_true  \n",
       "0         1            321.0              NaN  \n",
       "1         1           1120.0              NaN  \n",
       "2         1            210.0              NaN  \n",
       "3         1            122.0              NaN  \n",
       "4         1            416.0              NaN  "
      ]
     },
     "execution_count": 20,
     "metadata": {},
     "output_type": "execute_result"
    }
   ],
   "source": [
    "df.head()"
   ]
  },
  {
   "cell_type": "code",
   "execution_count": 21,
   "metadata": {},
   "outputs": [
    {
     "data": {
      "image/png": "[encoded data removed]",
      "text/plain": [
       "<Figure size 432x288 with 1 Axes>"
      ]
     },
     "metadata": {
      "needs_background": "light"
     },
     "output_type": "display_data"
    }
   ],
   "source": [
    "plt.title('Distribution of Word Count')\n",
    "plt.xlabel('Word Count')\n",
    "plt.xlim(0,1750)\n",
    "sns.histplot(df[['word_count_fake','word_count_true']]);"
   ]
  },
  {
   "cell_type": "code",
   "execution_count": 22,
   "metadata": {},
   "outputs": [
    {
     "data": {
      "text/plain": [
       "count    18647.000000\n",
       "mean       428.194830\n",
       "std        413.478175\n",
       "min          0.000000\n",
       "25%        259.000000\n",
       "50%        370.000000\n",
       "75%        502.000000\n",
       "max       8099.000000\n",
       "Name: word_count_fake, dtype: float64"
      ]
     },
     "execution_count": 22,
     "metadata": {},
     "output_type": "execute_result"
    }
   ],
   "source": [
    "df.word_count_fake.describe()"
   ]
  },
  {
   "cell_type": "code",
   "execution_count": 23,
   "metadata": {},
   "outputs": [
    {
     "data": {
      "text/plain": [
       "count    21211.000000\n",
       "mean       382.414360\n",
       "std        272.293077\n",
       "min          0.000000\n",
       "25%        146.000000\n",
       "50%        356.000000\n",
       "75%        520.000000\n",
       "max       5140.000000\n",
       "Name: word_count_true, dtype: float64"
      ]
     },
     "execution_count": 23,
     "metadata": {},
     "output_type": "execute_result"
    }
   ],
   "source": [
    "df.word_count_true.describe()"
   ]
  },
  {
   "cell_type": "code",
   "execution_count": 24,
   "metadata": {},
   "outputs": [],
   "source": [
    "df.drop(columns = ['word_count_fake', 'word_count_true'], inplace = True)"
   ]
  },
  {
   "cell_type": "code",
   "execution_count": 37,
   "metadata": {},
   "outputs": [],
   "source": [
    "df.text.replace({'___': ''}, regex=True, inplace=True)\n",
    "df.text.replace({'_______': ''}, regex=True, inplace=True)\n",
    "df.text.replace({'_________________________': ''}, regex=True, inplace=True)\n",
    "df.text.replace({'__________________________': ''}, regex=True, inplace=True)\n",
    "df.text.replace({'_____________________________________________________________________________________': ''}, regex=True, inplace=True)\n",
    "\n",
    "\n",
    "\n",
    "\n"
   ]
  },
  {
   "cell_type": "code",
   "execution_count": 38,
   "metadata": {},
   "outputs": [],
   "source": [
    "cvec = CountVectorizer(stop_words='english')\n",
    "cvec.fit(df['text'])\n",
    "\n",
    "vec_df = pd.DataFrame(cvec.transform(df['text']).todense(),\n",
    "                      columns = cvec.get_feature_names())"
   ]
  },
  {
   "cell_type": "code",
   "execution_count": 39,
   "metadata": {},
   "outputs": [
    {
     "data": {
      "text/html": [
       "<div>\n",
       "<style scoped>\n",
       "    .dataframe tbody tr th:only-of-type {\n",
       "        vertical-align: middle;\n",
       "    }\n",
       "\n",
       "    .dataframe tbody tr th {\n",
       "        vertical-align: top;\n",
       "    }\n",
       "\n",
       "    .dataframe thead th {\n",
       "        text-align: right;\n",
       "    }\n",
       "</style>\n",
       "<table border=\"1\" class=\"dataframe\">\n",
       "  <thead>\n",
       "    <tr style=\"text-align: right;\">\n",
       "      <th></th>\n",
       "      <th>__</th>\n",
       "      <th>__mref</th>\n",
       "      <th>__saada</th>\n",
       "      <th>_a_w_w_r_</th>\n",
       "      <th>_ad_container</th>\n",
       "      <th>_all_</th>\n",
       "      <th>_americasidiot</th>\n",
       "      <th>_anyone_</th>\n",
       "      <th>_bigger_</th>\n",
       "      <th>_brendancarroll</th>\n",
       "      <th>...</th>\n",
       "      <th>zzpx_bzkapolice</th>\n",
       "      <th>zzqvykxif</th>\n",
       "      <th>zzsgpbf</th>\n",
       "      <th>zztaine</th>\n",
       "      <th>zzucqevtm</th>\n",
       "      <th>zzumlhkoc</th>\n",
       "      <th>zzzzaaaacccchhh</th>\n",
       "      <th>zzzzzzzz</th>\n",
       "      <th>zzzzzzzzzzzzz</th>\n",
       "      <th>émigré</th>\n",
       "    </tr>\n",
       "  </thead>\n",
       "  <tbody>\n",
       "    <tr>\n",
       "      <th>0</th>\n",
       "      <td>0</td>\n",
       "      <td>0</td>\n",
       "      <td>0</td>\n",
       "      <td>0</td>\n",
       "      <td>0</td>\n",
       "      <td>0</td>\n",
       "      <td>0</td>\n",
       "      <td>0</td>\n",
       "      <td>0</td>\n",
       "      <td>0</td>\n",
       "      <td>...</td>\n",
       "      <td>0</td>\n",
       "      <td>0</td>\n",
       "      <td>0</td>\n",
       "      <td>0</td>\n",
       "      <td>0</td>\n",
       "      <td>0</td>\n",
       "      <td>0</td>\n",
       "      <td>0</td>\n",
       "      <td>0</td>\n",
       "      <td>0</td>\n",
       "    </tr>\n",
       "    <tr>\n",
       "      <th>1</th>\n",
       "      <td>0</td>\n",
       "      <td>0</td>\n",
       "      <td>0</td>\n",
       "      <td>0</td>\n",
       "      <td>0</td>\n",
       "      <td>0</td>\n",
       "      <td>0</td>\n",
       "      <td>0</td>\n",
       "      <td>0</td>\n",
       "      <td>0</td>\n",
       "      <td>...</td>\n",
       "      <td>0</td>\n",
       "      <td>0</td>\n",
       "      <td>0</td>\n",
       "      <td>0</td>\n",
       "      <td>0</td>\n",
       "      <td>0</td>\n",
       "      <td>0</td>\n",
       "      <td>0</td>\n",
       "      <td>0</td>\n",
       "      <td>0</td>\n",
       "    </tr>\n",
       "    <tr>\n",
       "      <th>2</th>\n",
       "      <td>0</td>\n",
       "      <td>0</td>\n",
       "      <td>0</td>\n",
       "      <td>0</td>\n",
       "      <td>0</td>\n",
       "      <td>0</td>\n",
       "      <td>0</td>\n",
       "      <td>0</td>\n",
       "      <td>0</td>\n",
       "      <td>0</td>\n",
       "      <td>...</td>\n",
       "      <td>0</td>\n",
       "      <td>0</td>\n",
       "      <td>0</td>\n",
       "      <td>0</td>\n",
       "      <td>0</td>\n",
       "      <td>0</td>\n",
       "      <td>0</td>\n",
       "      <td>0</td>\n",
       "      <td>0</td>\n",
       "      <td>0</td>\n",
       "    </tr>\n",
       "    <tr>\n",
       "      <th>3</th>\n",
       "      <td>0</td>\n",
       "      <td>0</td>\n",
       "      <td>0</td>\n",
       "      <td>0</td>\n",
       "      <td>0</td>\n",
       "      <td>0</td>\n",
       "      <td>0</td>\n",
       "      <td>0</td>\n",
       "      <td>0</td>\n",
       "      <td>0</td>\n",
       "      <td>...</td>\n",
       "      <td>0</td>\n",
       "      <td>0</td>\n",
       "      <td>0</td>\n",
       "      <td>0</td>\n",
       "      <td>0</td>\n",
       "      <td>0</td>\n",
       "      <td>0</td>\n",
       "      <td>0</td>\n",
       "      <td>0</td>\n",
       "      <td>0</td>\n",
       "    </tr>\n",
       "    <tr>\n",
       "      <th>4</th>\n",
       "      <td>0</td>\n",
       "      <td>0</td>\n",
       "      <td>0</td>\n",
       "      <td>0</td>\n",
       "      <td>0</td>\n",
       "      <td>0</td>\n",
       "      <td>0</td>\n",
       "      <td>0</td>\n",
       "      <td>0</td>\n",
       "      <td>0</td>\n",
       "      <td>...</td>\n",
       "      <td>0</td>\n",
       "      <td>0</td>\n",
       "      <td>0</td>\n",
       "      <td>0</td>\n",
       "      <td>0</td>\n",
       "      <td>0</td>\n",
       "      <td>0</td>\n",
       "      <td>0</td>\n",
       "      <td>0</td>\n",
       "      <td>0</td>\n",
       "    </tr>\n",
       "  </tbody>\n",
       "</table>\n",
       "<p>5 rows × 114500 columns</p>\n",
       "</div>"
      ],
      "text/plain": [
       "   __  __mref  __saada  _a_w_w_r_  _ad_container  _all_  _americasidiot  \\\n",
       "0   0       0        0          0              0      0               0   \n",
       "1   0       0        0          0              0      0               0   \n",
       "2   0       0        0          0              0      0               0   \n",
       "3   0       0        0          0              0      0               0   \n",
       "4   0       0        0          0              0      0               0   \n",
       "\n",
       "   _anyone_  _bigger_  _brendancarroll  ...  zzpx_bzkapolice  zzqvykxif  \\\n",
       "0         0         0                0  ...                0          0   \n",
       "1         0         0                0  ...                0          0   \n",
       "2         0         0                0  ...                0          0   \n",
       "3         0         0                0  ...                0          0   \n",
       "4         0         0                0  ...                0          0   \n",
       "\n",
       "   zzsgpbf  zztaine  zzucqevtm  zzumlhkoc  zzzzaaaacccchhh  zzzzzzzz  \\\n",
       "0        0        0          0          0                0         0   \n",
       "1        0        0          0          0                0         0   \n",
       "2        0        0          0          0                0         0   \n",
       "3        0        0          0          0                0         0   \n",
       "4        0        0          0          0                0         0   \n",
       "\n",
       "   zzzzzzzzzzzzz  émigré  \n",
       "0              0       0  \n",
       "1              0       0  \n",
       "2              0       0  \n",
       "3              0       0  \n",
       "4              0       0  \n",
       "\n",
       "[5 rows x 114500 columns]"
      ]
     },
     "execution_count": 39,
     "metadata": {},
     "output_type": "execute_result"
    }
   ],
   "source": [
    "vec_df.head()"
   ]
  },
  {
   "cell_type": "code",
   "execution_count": 36,
   "metadata": {},
   "outputs": [
    {
     "data": {
      "text/plain": [
       "35477    WASHINGTON (Reuters) - Jared Kushner’s lawyer ...\n",
       "Name: text, dtype: object"
      ]
     },
     "execution_count": 36,
     "metadata": {},
     "output_type": "execute_result"
    }
   ],
   "source": [
    "df.loc[df['text'].str.contains('émigré'),'text']"
   ]
  },
  {
   "cell_type": "code",
   "execution_count": null,
   "metadata": {},
   "outputs": [],
   "source": []
  }
 ],
 "metadata": {
  "kernelspec": {
   "display_name": "Python 3",
   "language": "python",
   "name": "python3"
  },
  "language_info": {
   "codemirror_mode": {
    "name": "ipython",
    "version": 3
   },
   "file_extension": ".py",
   "mimetype": "text/x-python",
   "name": "python",
   "nbconvert_exporter": "python",
   "pygments_lexer": "ipython3",
   "version": "3.8.5"
  }
 },
 "nbformat": 4,
 "nbformat_minor": 4
}
