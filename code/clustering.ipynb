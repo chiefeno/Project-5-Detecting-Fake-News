{
 "cells": [
  {
   "cell_type": "code",
   "execution_count": 1,
   "metadata": {},
   "outputs": [],
   "source": [
    "import pandas as pd\n",
    "from sklearn.preprocessing import StandardScaler\n",
    "from sklearn.metrics import silhouette_score\n",
    "from sklearn.datasets import load_iris, load_wine\n",
    "from sklearn.cluster import DBSCAN\n",
    "import seaborn as sns\n",
    "import matplotlib.pyplot as plt"
   ]
  },
  {
   "cell_type": "code",
   "execution_count": 2,
   "metadata": {},
   "outputs": [],
   "source": [
    "X_train = pd.read_csv('../datasets/X_train.csv')\n",
    "X_test = pd.read_csv('../datasets/X_test.csv')\n",
    "y_train = pd.read_csv('../datasets/y_train.csv')\n",
    "y_test = pd.read_csv('../datasets/y_test.csv')\n",
    "\n",
    "y_train['train_dataset'] = 1\n",
    "y_test['train_dataset'] = 0\n",
    "\n",
    "X = pd.concat([X_train, X_test])\n",
    "y = pd.concat([y_train, y_test])\n",
    "\n",
    "X.reset_index(drop=True, inplace=True)\n",
    "y.reset_index(drop=True, inplace=True)\n",
    "\n",
    "df = pd.concat([X, y], axis = 1)"
   ]
  },
  {
   "cell_type": "code",
   "execution_count": 5,
   "metadata": {},
   "outputs": [],
   "source": [
    "feats = [col for col in df.columns if col not in ['title','text','date', 'is_true']]\n",
    "\n",
    "ss = StandardScaler()\n",
    "X_scaled = ss.fit_transform(df[feats])"
   ]
  },
  {
   "cell_type": "code",
   "execution_count": 6,
   "metadata": {},
   "outputs": [
    {
     "data": {
      "text/plain": [
       "array([[ 0.60844775,  0.48753708,  0.192173  , ..., -0.24201217,\n",
       "         0.04335476,  0.57736958],\n",
       "       [ 0.60844775, -0.57503143, -0.10916913, ..., -0.24201217,\n",
       "        -0.14615383,  0.57736958],\n",
       "       [ 0.60844775, -0.04374718,  0.764165  , ..., -0.24201217,\n",
       "         0.23286335,  0.57736958],\n",
       "       ...,\n",
       "       [ 0.60844775, -0.84067355, -0.90995794, ..., -0.24201217,\n",
       "        -0.14615383, -1.73199287],\n",
       "       [ 0.60844775, -0.3093893 , -0.27100101, ...,  1.45296603,\n",
       "         0.23286335, -1.73199287],\n",
       "       [ 0.60844775,  0.48753708,  0.16427095, ..., -0.24201217,\n",
       "         0.61188053, -1.73199287]])"
      ]
     },
     "execution_count": 6,
     "metadata": {},
     "output_type": "execute_result"
    }
   ],
   "source": [
    "X_scaled"
   ]
  },
  {
   "cell_type": "code",
   "execution_count": 8,
   "metadata": {},
   "outputs": [
    {
     "data": {
      "text/plain": [
       "-0.3622958257322213"
      ]
     },
     "execution_count": 8,
     "metadata": {},
     "output_type": "execute_result"
    }
   ],
   "source": [
    "dbscan = DBSCAN(eps=.65)\n",
    "dbscan.fit(X_scaled)\n",
    "\n",
    "silhouette_score(X_scaled, dbscan.labels_)"
   ]
  },
  {
   "cell_type": "code",
   "execution_count": null,
   "metadata": {},
   "outputs": [],
   "source": []
  }
 ],
 "metadata": {
  "kernelspec": {
   "display_name": "Python 3",
   "language": "python",
   "name": "python3"
  },
  "language_info": {
   "codemirror_mode": {
    "name": "ipython",
    "version": 3
   },
   "file_extension": ".py",
   "mimetype": "text/x-python",
   "name": "python",
   "nbconvert_exporter": "python",
   "pygments_lexer": "ipython3",
   "version": "3.8.5"
  }
 },
 "nbformat": 4,
 "nbformat_minor": 4
}
