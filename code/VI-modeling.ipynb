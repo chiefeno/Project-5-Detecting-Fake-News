{
 "cells": [
  {
   "cell_type": "markdown",
   "metadata": {},
   "source": [
    "# Logistic Regression, Random Forest and Boosted RF Analysis "
   ]
  },
  {
   "cell_type": "markdown",
   "metadata": {},
   "source": [
    "### Import Libraries"
   ]
  },
  {
   "cell_type": "code",
   "execution_count": 1,
   "metadata": {},
   "outputs": [],
   "source": [
    "import pandas as pd\n",
    "import numpy as np\n",
    "import matplotlib.pyplot as plt\n",
    "import seaborn as sns\n",
    "sns.set(color_codes = True)\n",
    "%matplotlib inline\n",
    "\n",
    "from sklearn.preprocessing import StandardScaler\n",
    "from sklearn.linear_model import LogisticRegression, LogisticRegressionCV\n",
    "\n",
    "from sklearn.ensemble import RandomForestClassifier, ExtraTreesClassifier\n",
    "from sklearn.model_selection import cross_val_score, train_test_split, GridSearchCV\n",
    "\n",
    "# Boosting\n",
    "from sklearn.ensemble import GradientBoostingClassifier, AdaBoostClassifier, VotingClassifier, BaggingClassifier\n",
    "\n",
    "from sklearn.metrics import confusion_matrix\n",
    "\n",
    "from sklearn.pipeline import Pipeline"
   ]
  },
  {
   "cell_type": "code",
   "execution_count": 2,
   "metadata": {},
   "outputs": [],
   "source": [
    "# To display all the rows and columns\n",
    "pd.set_option('display.max_rows', 999)\n",
    "pd.set_option('display.max_columns', 999)"
   ]
  },
  {
   "cell_type": "markdown",
   "metadata": {},
   "source": [
    "### Import Data Files"
   ]
  },
  {
   "cell_type": "markdown",
   "metadata": {},
   "source": [
    "During the data cleaning phase of this project we divided the training and testing data. This was necessary because the original data file was too large for the github repository and caused glitches when we tried to push the file. As a result, each csv file is one component of the train/test split. "
   ]
  },
  {
   "cell_type": "code",
   "execution_count": 3,
   "metadata": {},
   "outputs": [],
   "source": [
    "X_train = pd.read_csv('../datasets/X_train_w_SA_and_words.csv')\n",
    "X_test = pd.read_csv('../datasets/X_test_w_SA_and_words.csv')\n",
    "y_train = pd.read_csv('../datasets/y_train.csv')\n",
    "y_test = pd.read_csv('../datasets/y_test.csv')"
   ]
  },
  {
   "cell_type": "code",
   "execution_count": 4,
   "metadata": {},
   "outputs": [],
   "source": [
    "# Scaled X\n",
    "ss = StandardScaler()\n",
    "X_train_sc = ss.fit_transform(X_train)\n",
    "X_test_sc = ss.transform(X_test)"
   ]
  },
  {
   "cell_type": "markdown",
   "metadata": {},
   "source": [
    "### Features"
   ]
  },
  {
   "cell_type": "markdown",
   "metadata": {},
   "source": [
    "The features include three types of data. \n",
    "\n",
    "The first type is targeted stats about the news articles, including but not limited to the following: number of words in the headline and text, number of characters in the headline and text, number of special characters ($, #, ?, !, etc.), and ratios. These features account for 23 columns. \n",
    "\n",
    "The second type is sentiment analysis. These features make up 26 columns. \n",
    "\n",
    "The third type is stemmed words from the text. These features make up 575 columns. "
   ]
  },
  {
   "cell_type": "code",
   "execution_count": 34,
   "metadata": {},
   "outputs": [
    {
     "name": "stdout",
     "output_type": "stream",
     "text": [
      "Total number of features:  626\n"
     ]
    }
   ],
   "source": [
    "print('Total number of features: ', X_train.shape[1])"
   ]
  },
  {
   "cell_type": "markdown",
   "metadata": {},
   "source": [
    "### Baseline Model"
   ]
  },
  {
   "cell_type": "markdown",
   "metadata": {},
   "source": [
    "The baseline model is the percentage of the majority class. In this case, Real News in the majority class at 53.2%. I checked that the train and test sets had equal baseline scores. "
   ]
  },
  {
   "cell_type": "code",
   "execution_count": 5,
   "metadata": {
    "scrolled": true
   },
   "outputs": [
    {
     "data": {
      "text/plain": [
       "1    0.532165\n",
       "0    0.467835\n",
       "Name: is_true, dtype: float64"
      ]
     },
     "execution_count": 5,
     "metadata": {},
     "output_type": "execute_result"
    }
   ],
   "source": [
    "# baseline accuracy - the percentage of the majority class\n",
    "y_train['is_true'].value_counts(normalize=True)"
   ]
  },
  {
   "cell_type": "code",
   "execution_count": 6,
   "metadata": {},
   "outputs": [
    {
     "data": {
      "text/plain": [
       "1    0.532163\n",
       "0    0.467837\n",
       "Name: is_true, dtype: float64"
      ]
     },
     "execution_count": 6,
     "metadata": {},
     "output_type": "execute_result"
    }
   ],
   "source": [
    "# baseline accuracy - the percentage of the majority class\n",
    "y_test['is_true'].value_counts(normalize=True)"
   ]
  },
  {
   "cell_type": "markdown",
   "metadata": {},
   "source": [
    "## Logistic Regression"
   ]
  },
  {
   "cell_type": "markdown",
   "metadata": {},
   "source": [
    "### Summary"
   ]
  },
  {
   "cell_type": "markdown",
   "metadata": {},
   "source": [
    "The main challenge with Logistic Regression Classification is a high variance and thus overfit models. The table below shows the training and testing accuracy and cross val scores for each model. The first two model scores are essentially perfect at 99%+. The confusion matrix for each model showed an immaterial amount of false positives and negatives, less than 1%. I decided to use regularization to address the overfit models. \n",
    "\n",
    "Regularization does not improve the performance on the data set that the model used to learn the model parameters. However, it can improve the generalization performance, i.e., the performance on new, unseen data, which is exactly what we want.\n",
    "\n",
    "In intuitive terms, we can think of regularization as a penalty against complexity. Increasing the regularization strength penalizes \"large\" weight coefficients. Our goal is to prevent that our model picks up \"peculiarities,\" \"noise,\" or \"imagines a pattern where there is none.\" We don't want the model to memorize the training dataset, we want a model that generalizes well to new, unseen data.\n",
    "\n",
    "Regularizing the logistic regression model adds bias but not too much bias. The testing cross val score of 86% is significantly better than the baseline score of 53%. While I would like the training and testing cross val score to be closer than the current 7 point spread it is the lesser of two evil when compared to the other overfit models. Additionally, the regularized model has a high testing accuracy score of 94%.\n",
    "\n",
    "source: https://www.kdnuggets.com/2016/06/regularization-logistic-regression.html"
   ]
  },
  {
   "cell_type": "markdown",
   "metadata": {},
   "source": [
    "| Model                                        | Accuracy Score - Train | Accuracy Score - Test | CrossValScore - Train | CrossValScore - Test |\n",
    "|----------------------------------------------|------------------------|-----------------------|-----------------------|----------------------|\n",
    "| Logistic Regression - Not Scaled             | 0.991                  | 0.992                 | 0.989                 | 0.991                |\n",
    "| Logistic Regression - Scaled                 | 0.999                  | 0.995                 | 0.995                 | 0.992                |\n",
    "| Logistic Regression - Scaled and Regularized | 0.937                    | 0.944                 | 0.929                 | 0.859                |"
   ]
  },
  {
   "cell_type": "markdown",
   "metadata": {},
   "source": [
    "### No Standard Scaler"
   ]
  },
  {
   "cell_type": "code",
   "execution_count": 7,
   "metadata": {
    "scrolled": true
   },
   "outputs": [
    {
     "name": "stdout",
     "output_type": "stream",
     "text": [
      "Training Accuracy of Model is: 0.9909677851001907\n",
      "Testing Accuracy of Model is: 0.9918715504264928\n",
      "\n"
     ]
    },
    {
     "name": "stderr",
     "output_type": "stream",
     "text": [
      "/opt/anaconda3/lib/python3.8/site-packages/sklearn/linear_model/_logistic.py:762: ConvergenceWarning: lbfgs failed to converge (status=1):\n",
      "STOP: TOTAL NO. of ITERATIONS REACHED LIMIT.\n",
      "\n",
      "Increase the number of iterations (max_iter) or scale the data as shown in:\n",
      "    https://scikit-learn.org/stable/modules/preprocessing.html\n",
      "Please also refer to the documentation for alternative solver options:\n",
      "    https://scikit-learn.org/stable/modules/linear_model.html#logistic-regression\n",
      "  n_iter_i = _check_optimize_result(\n"
     ]
    },
    {
     "name": "stdout",
     "output_type": "stream",
     "text": [
      "Training Cross Val Score:  0.9890943270779724\n",
      "Testing Cross Val Score:  0.9910687405920722\n"
     ]
    }
   ],
   "source": [
    "# instantiate the model\n",
    "logr = LogisticRegression()\n",
    "\n",
    "# fit the model\n",
    "model = logr.fit(X_train, y_train.values.ravel())\n",
    "\n",
    "# Accuracy Scores\n",
    "score = model.score(X_train, y_train)\n",
    "print(f'Training Accuracy of Model is: {score}')\n",
    "\n",
    "score = model.score(X_test, y_test)\n",
    "print(f'Testing Accuracy of Model is: {score}')\n",
    "\n",
    "# Cross Val Scores\n",
    "print()\n",
    "print('Training Cross Val Score: ', cross_val_score(logr, X_train, y_train, cv = 5, n_jobs = -1).mean())\n",
    "print('Testing Cross Val Score: ', cross_val_score(logr, X_test, y_test, cv = 5, n_jobs = -1).mean())\n",
    "\n",
    "# https://stackoverflow.com/questions/34165731/a-column-vector-y-was-passed-when-a-1d-array-was-expected"
   ]
  },
  {
   "cell_type": "markdown",
   "metadata": {},
   "source": [
    "### Confusion Matrix - No Standard Scaler"
   ]
  },
  {
   "cell_type": "code",
   "execution_count": 8,
   "metadata": {},
   "outputs": [
    {
     "data": {
      "text/plain": [
       "array([[4620,   42],\n",
       "       [  39, 5264]])"
      ]
     },
     "execution_count": 8,
     "metadata": {},
     "output_type": "execute_result"
    }
   ],
   "source": [
    "# Confusion Matrix\n",
    "# Compute confusion matrix\n",
    "y_predicted_labels = model.predict(X_test)\n",
    "cnf_matrix = confusion_matrix(y_test, y_predicted_labels)\n",
    "np.set_printoptions(precision=2)\n",
    "cnf_matrix"
   ]
  },
  {
   "cell_type": "code",
   "execution_count": 9,
   "metadata": {},
   "outputs": [],
   "source": [
    "import itertools\n",
    "\n",
    "def plot_confusion_matrix(cm, classes,\n",
    "                          normalize=False,\n",
    "                          title='Confusion matrix',\n",
    "                          cmap=plt.cm.Blues):\n",
    "    \"\"\"\n",
    "    This function prints and plots the confusion matrix.\n",
    "    Normalization can be applied by setting `normalize=True`.\n",
    "    \"\"\"\n",
    "    if normalize:\n",
    "        cm = cm.astype('float') / cm.sum(axis=1)[:, np.newaxis]\n",
    "        print(\"Normalized confusion matrix\")\n",
    "    else:\n",
    "        print('Confusion matrix, without normalization')\n",
    "\n",
    "    print(cm)\n",
    "\n",
    "    plt.imshow(cm, interpolation='nearest', cmap=cmap)\n",
    "    plt.title(title)\n",
    "    plt.colorbar()\n",
    "    tick_marks = np.arange(len(classes))\n",
    "    plt.xticks(tick_marks, classes, rotation=45)\n",
    "    plt.yticks(tick_marks, classes)\n",
    "\n",
    "    fmt = '.2f' if normalize else 'd'\n",
    "    thresh = cm.max() / 2.\n",
    "    for i, j in itertools.product(range(cm.shape[0]), range(cm.shape[1])):\n",
    "        plt.text(j, i, format(cm[i, j], fmt),\n",
    "                 horizontalalignment=\"center\",\n",
    "                 color=\"white\" if cm[i, j] > thresh else \"black\")\n",
    "\n",
    "    plt.ylabel('True label')\n",
    "    plt.xlabel('Predicted label')\n",
    "    plt.tight_layout()\n",
    "\n",
    "# code --> https://www.kaggle.com/paragap/fake-news-prediction-algorithm"
   ]
  },
  {
   "cell_type": "code",
   "execution_count": 10,
   "metadata": {},
   "outputs": [
    {
     "name": "stdout",
     "output_type": "stream",
     "text": [
      "Confusion matrix, without normalization\n",
      "[[4620   42]\n",
      " [  39 5264]]\n",
      "Normalized confusion matrix\n",
      "[[0.99 0.01]\n",
      " [0.01 0.99]]\n"
     ]
    },
    {
     "data": {
      "image/png": "[encoded data removed]",
      "text/plain": [
       "<Figure size 432x288 with 2 Axes>"
      ]
     },
     "metadata": {
      "needs_background": "light"
     },
     "output_type": "display_data"
    },
    {
     "data": {
      "image/png": "[encoded data removed]",
      "text/plain": [
       "<Figure size 432x288 with 2 Axes>"
      ]
     },
     "metadata": {
      "needs_background": "light"
     },
     "output_type": "display_data"
    }
   ],
   "source": [
    "#Without Normalization\n",
    "plt.figure()\n",
    "plot_confusion_matrix(cnf_matrix, classes= ['True', 'Fake'],\n",
    "                      title='Confusion matrix, without normalization')\n",
    "# With normalization\n",
    "plt.figure()\n",
    "plot_confusion_matrix(cnf_matrix, classes= ['True', 'Fake'], normalize=True,\n",
    "                      title='Normalized confusion matrix')\n",
    "\n",
    "plt.show()"
   ]
  },
  {
   "cell_type": "markdown",
   "metadata": {},
   "source": [
    "The confusion matrix shows a near perfect model. Less than 1% of data fall into the false positive and false negative categories. "
   ]
  },
  {
   "cell_type": "markdown",
   "metadata": {},
   "source": [
    "### Standard Scaler"
   ]
  },
  {
   "cell_type": "code",
   "execution_count": 11,
   "metadata": {},
   "outputs": [
    {
     "name": "stderr",
     "output_type": "stream",
     "text": [
      "/opt/anaconda3/lib/python3.8/site-packages/sklearn/linear_model/_logistic.py:762: ConvergenceWarning: lbfgs failed to converge (status=1):\n",
      "STOP: TOTAL NO. of ITERATIONS REACHED LIMIT.\n",
      "\n",
      "Increase the number of iterations (max_iter) or scale the data as shown in:\n",
      "    https://scikit-learn.org/stable/modules/preprocessing.html\n",
      "Please also refer to the documentation for alternative solver options:\n",
      "    https://scikit-learn.org/stable/modules/linear_model.html#logistic-regression\n",
      "  n_iter_i = _check_optimize_result(\n"
     ]
    },
    {
     "name": "stdout",
     "output_type": "stream",
     "text": [
      "Training Accuracy of Model is: 0.9998996420566688\n",
      "Testing Accuracy of Model is: 0.9954841946813848\n",
      "\n",
      "Training Cross Val Score:  0.9946475707241431\n",
      "Testing Cross Val Score:  0.9923733065730055\n"
     ]
    }
   ],
   "source": [
    "# instantiate the model\n",
    "logr = LogisticRegression()\n",
    "\n",
    "# fit the model\n",
    "model = logr.fit(X_train_sc, y_train.values.ravel())\n",
    "\n",
    "# Accuracy Scores\n",
    "score = model.score(X_train_sc, y_train)\n",
    "print(f'Training Accuracy of Model is: {score}')\n",
    "\n",
    "score = model.score(X_test_sc, y_test)\n",
    "print(f'Testing Accuracy of Model is: {score}')\n",
    "\n",
    "# Cross Val Scores\n",
    "print()\n",
    "print('Training Cross Val Score: ', cross_val_score(logr, X_train_sc, y_train, cv = 5, n_jobs = -1).mean())\n",
    "print('Testing Cross Val Score: ', cross_val_score(logr, X_test_sc, y_test, cv = 5, n_jobs = -1).mean())"
   ]
  },
  {
   "cell_type": "markdown",
   "metadata": {},
   "source": [
    "### Confusion Matrix - Scaled"
   ]
  },
  {
   "cell_type": "code",
   "execution_count": 12,
   "metadata": {},
   "outputs": [
    {
     "data": {
      "text/plain": [
       "array([[4633,   29],\n",
       "       [  16, 5287]])"
      ]
     },
     "execution_count": 12,
     "metadata": {},
     "output_type": "execute_result"
    }
   ],
   "source": [
    "#Confusion Matrix\n",
    "# Compute confusion matrix\n",
    "y_predicted_labels = model.predict(X_test_sc)\n",
    "cnf_matrix = confusion_matrix(y_test, y_predicted_labels)\n",
    "np.set_printoptions(precision=2)\n",
    "cnf_matrix"
   ]
  },
  {
   "cell_type": "code",
   "execution_count": 13,
   "metadata": {},
   "outputs": [
    {
     "name": "stdout",
     "output_type": "stream",
     "text": [
      "Confusion matrix, without normalization\n",
      "[[4633   29]\n",
      " [  16 5287]]\n",
      "Normalized confusion matrix\n",
      "[[0.99 0.01]\n",
      " [0.   1.  ]]\n"
     ]
    },
    {
     "data": {
      "image/png": "[encoded data removed]",
      "text/plain": [
       "<Figure size 432x288 with 2 Axes>"
      ]
     },
     "metadata": {
      "needs_background": "light"
     },
     "output_type": "display_data"
    },
    {
     "data": {
      "image/png": "[encoded data removed]",
      "text/plain": [
       "<Figure size 432x288 with 2 Axes>"
      ]
     },
     "metadata": {
      "needs_background": "light"
     },
     "output_type": "display_data"
    }
   ],
   "source": [
    "#Without Normalization\n",
    "plt.figure()\n",
    "plot_confusion_matrix(cnf_matrix, classes= ['True', 'Fake'],\n",
    "                      title='Confusion matrix, without normalization')\n",
    "# With normalization\n",
    "plt.figure()\n",
    "plot_confusion_matrix(cnf_matrix, classes= ['True', 'Fake'], normalize=True,\n",
    "                      title='Normalized confusion matrix')\n",
    "\n",
    "plt.show()"
   ]
  },
  {
   "cell_type": "markdown",
   "metadata": {},
   "source": [
    "Again, the confusion matrix shows a near perfect model. Less than 1% of data fall into the false positive and false negative categories."
   ]
  },
  {
   "cell_type": "markdown",
   "metadata": {},
   "source": [
    "### Regularizing Logistic Regression"
   ]
  },
  {
   "cell_type": "markdown",
   "metadata": {},
   "source": [
    "I included to methods to see if LogisticRegression and LogisticRegressionCV produced the same results, which they did. The model uses an alpha value of 0.00001 and solver lbfgs, which is good for larger datasets. "
   ]
  },
  {
   "cell_type": "markdown",
   "metadata": {},
   "source": [
    "#### Method 1: LogisticRegression"
   ]
  },
  {
   "cell_type": "code",
   "execution_count": 14,
   "metadata": {},
   "outputs": [
    {
     "data": {
      "text/plain": [
       "LogisticRegression(C=1e-05)"
      ]
     },
     "execution_count": 14,
     "metadata": {},
     "output_type": "execute_result"
    }
   ],
   "source": [
    "logreg = LogisticRegression(C=0.00001, solver='lbfgs')\n",
    "logreg.fit(X_train_sc, y_train.values.ravel())"
   ]
  },
  {
   "cell_type": "code",
   "execution_count": 15,
   "metadata": {},
   "outputs": [
    {
     "name": "stdout",
     "output_type": "stream",
     "text": [
      "Training Accuracy of Model is: 0.9366741377580036\n",
      "Testing Accuracy of Model is: 0.943803311590567\n",
      "\n",
      "Training Cross Val Score:  0.9293146566120711\n",
      "Testing Cross Val Score:  0.8589061716006021\n"
     ]
    }
   ],
   "source": [
    "# Accuracy Scores\n",
    "score = logreg.score(X_train_sc, y_train)\n",
    "print(f'Training Accuracy of Model is: {score}')\n",
    "\n",
    "score = logreg.score(X_test_sc, y_test)\n",
    "print(f'Testing Accuracy of Model is: {score}')\n",
    "\n",
    "# Cross Val Scores\n",
    "print()\n",
    "print('Training Cross Val Score: ', cross_val_score(logreg, X_train_sc, y_train, cv = 5, n_jobs = -1).mean())\n",
    "print('Testing Cross Val Score: ', cross_val_score(logreg, X_test_sc, y_test, cv = 5, n_jobs = -1).mean())"
   ]
  },
  {
   "cell_type": "markdown",
   "metadata": {},
   "source": [
    "#### Method 2: LogisticRegressionCV"
   ]
  },
  {
   "cell_type": "code",
   "execution_count": 16,
   "metadata": {},
   "outputs": [
    {
     "data": {
      "text/plain": [
       "LogisticRegressionCV(Cs=array([1.e-05]))"
      ]
     },
     "execution_count": 16,
     "metadata": {},
     "output_type": "execute_result"
    }
   ],
   "source": [
    "logregcv = LogisticRegressionCV(Cs=np.array([0.00001]), penalty='l2', solver='lbfgs')\n",
    "logregcv.fit(X_train_sc, y_train.values.ravel())"
   ]
  },
  {
   "cell_type": "code",
   "execution_count": 17,
   "metadata": {},
   "outputs": [
    {
     "data": {
      "text/plain": [
       "array([1.00e-04, 2.64e-04, 6.95e-04, 1.83e-03, 4.83e-03, 1.27e-02,\n",
       "       3.36e-02, 8.86e-02, 2.34e-01, 6.16e-01, 1.62e+00, 4.28e+00,\n",
       "       1.13e+01, 2.98e+01, 7.85e+01, 2.07e+02, 5.46e+02, 1.44e+03,\n",
       "       3.79e+03, 1.00e+04])"
      ]
     },
     "execution_count": 17,
     "metadata": {},
     "output_type": "execute_result"
    }
   ],
   "source": [
    "Cs=[1.5, 2, 3, 4, 5]\n",
    "Cs=np.array([0.1, 1])\n",
    "penalty='l2'\n",
    "\n",
    "np.array([0.000001, 0.0000001,  0.00000001])\n",
    "\n",
    "np.logspace(-4, 4, 20)"
   ]
  },
  {
   "cell_type": "code",
   "execution_count": 18,
   "metadata": {},
   "outputs": [
    {
     "name": "stdout",
     "output_type": "stream",
     "text": [
      "Training Accuracy of Model is: 0.9366741377580036\n",
      "Testing Accuracy of Model is: 0.943803311590567\n",
      "\n",
      "Training Cross Val Score:  0.9293146566120711\n",
      "Testing Cross Val Score:  0.8589061716006021\n",
      "\n",
      "Took 7.351426839828491 seconds to calculate.\n"
     ]
    }
   ],
   "source": [
    "import time\n",
    "start_time = time.time()\n",
    "\n",
    "# Accuracy Scores\n",
    "score = logregcv.score(X_train_sc, y_train)\n",
    "print(f'Training Accuracy of Model is: {score}')\n",
    "\n",
    "score = logregcv.score(X_test_sc, y_test)\n",
    "print(f'Testing Accuracy of Model is: {score}')\n",
    "\n",
    "# Cross Val Scores\n",
    "print()\n",
    "print('Training Cross Val Score: ', cross_val_score(logregcv, X_train_sc, y_train, cv = 5, n_jobs = -1).mean())\n",
    "print('Testing Cross Val Score: ', cross_val_score(logregcv, X_test_sc, y_test, cv = 5, n_jobs = -1).mean())\n",
    "\n",
    "end_time = time.time()\n",
    "print()\n",
    "print('Took %s seconds to calculate.' % (end_time - start_time))"
   ]
  },
  {
   "cell_type": "markdown",
   "metadata": {},
   "source": [
    "### Confusion Matrix - Scaled and Regularized"
   ]
  },
  {
   "cell_type": "code",
   "execution_count": 19,
   "metadata": {},
   "outputs": [
    {
     "data": {
      "text/plain": [
       "array([[4139,  523],\n",
       "       [  37, 5266]])"
      ]
     },
     "execution_count": 19,
     "metadata": {},
     "output_type": "execute_result"
    }
   ],
   "source": [
    "#Confusion Matrix\n",
    "# Compute confusion matrix\n",
    "y_predicted_labels = logreg.predict(X_test_sc)\n",
    "cnf_matrix = confusion_matrix(y_test, y_predicted_labels)\n",
    "np.set_printoptions(precision=2)\n",
    "cnf_matrix"
   ]
  },
  {
   "cell_type": "code",
   "execution_count": 20,
   "metadata": {},
   "outputs": [
    {
     "name": "stdout",
     "output_type": "stream",
     "text": [
      "Confusion matrix, without normalization\n",
      "[[4139  523]\n",
      " [  37 5266]]\n",
      "Normalized confusion matrix\n",
      "[[0.89 0.11]\n",
      " [0.01 0.99]]\n"
     ]
    },
    {
     "data": {
      "image/png": "[encoded data removed]",
      "text/plain": [
       "<Figure size 432x288 with 2 Axes>"
      ]
     },
     "metadata": {
      "needs_background": "light"
     },
     "output_type": "display_data"
    },
    {
     "data": {
      "image/png": "[encoded data removed]",
      "text/plain": [
       "<Figure size 432x288 with 2 Axes>"
      ]
     },
     "metadata": {
      "needs_background": "light"
     },
     "output_type": "display_data"
    }
   ],
   "source": [
    "#Without Normalization\n",
    "plt.figure()\n",
    "plot_confusion_matrix(cnf_matrix, classes= ['True', 'Fake'],\n",
    "                      title='Confusion matrix, without normalization')\n",
    "# With normalization\n",
    "plt.figure()\n",
    "plot_confusion_matrix(cnf_matrix, classes= ['True', 'Fake'], normalize=True,\n",
    "                      title='Normalized confusion matrix')\n",
    "\n",
    "plt.show()"
   ]
  },
  {
   "cell_type": "markdown",
   "metadata": {},
   "source": [
    "11% of the data is classified as False Positive (predicted fake news but it was real). It's hard to determine which error is worse. Is it better to be more skeptical and to categorize real news as fake or be more open to information and categorize more fake news as real. The preference would depend on the reader and the circumstances of the information. This model can be viewed as being more skeptical with a strong fake news filter."
   ]
  },
  {
   "cell_type": "markdown",
   "metadata": {},
   "source": [
    "## Random Forest"
   ]
  },
  {
   "cell_type": "markdown",
   "metadata": {},
   "source": [
    "### Summary"
   ]
  },
  {
   "cell_type": "markdown",
   "metadata": {},
   "source": [
    "The Random Forest and Boosted Random Forest also suffered from high variance. "
   ]
  },
  {
   "cell_type": "code",
   "execution_count": 21,
   "metadata": {
    "scrolled": true
   },
   "outputs": [
    {
     "name": "stderr",
     "output_type": "stream",
     "text": [
      "<ipython-input-21-3271f895bba4>:3: DataConversionWarning: A column-vector y was passed when a 1d array was expected. Please change the shape of y to (n_samples,), for example using ravel().\n",
      "  rf_model = rf.fit(X_train, y_train)\n"
     ]
    },
    {
     "data": {
      "text/plain": [
       "array([[4659,    3],\n",
       "       [   9, 5294]])"
      ]
     },
     "execution_count": 21,
     "metadata": {},
     "output_type": "execute_result"
    }
   ],
   "source": [
    "rf = RandomForestClassifier(n_estimators=150, max_depth=None, n_jobs=-1)\n",
    "\n",
    "rf_model = rf.fit(X_train, y_train)\n",
    "\n",
    "# Confusion Matrix\n",
    "# Compute confusion matrix\n",
    "y_predicted_labels = rf_model.predict(X_test)\n",
    "cnf_matrix = confusion_matrix(y_test, y_predicted_labels)\n",
    "np.set_printoptions(precision=2)\n",
    "cnf_matrix\n",
    "\n",
    "# code --> https://www.kaggle.com/sauravmaheshkar/fake-news-classification-using-random-forest"
   ]
  },
  {
   "cell_type": "code",
   "execution_count": 22,
   "metadata": {},
   "outputs": [
    {
     "name": "stdout",
     "output_type": "stream",
     "text": [
      "Confusion matrix, without normalization\n",
      "[[4659    3]\n",
      " [   9 5294]]\n",
      "Normalized confusion matrix\n",
      "[[9.99e-01 6.44e-04]\n",
      " [1.70e-03 9.98e-01]]\n"
     ]
    },
    {
     "data": {
      "image/png": "[encoded data removed]",
      "text/plain": [
       "<Figure size 432x288 with 2 Axes>"
      ]
     },
     "metadata": {
      "needs_background": "light"
     },
     "output_type": "display_data"
    },
    {
     "data": {
      "image/png": "[encoded data removed]",
      "text/plain": [
       "<Figure size 432x288 with 2 Axes>"
      ]
     },
     "metadata": {
      "needs_background": "light"
     },
     "output_type": "display_data"
    }
   ],
   "source": [
    "#Without Normalization\n",
    "plt.figure()\n",
    "plot_confusion_matrix(cnf_matrix, classes= ['True', 'Fake'],\n",
    "                      title='Confusion matrix, without normalization')\n",
    "# With normalization\n",
    "plt.figure()\n",
    "plot_confusion_matrix(cnf_matrix, classes= ['True', 'Fake'], normalize=True,\n",
    "                      title='Normalized confusion matrix')\n",
    "\n",
    "plt.show()"
   ]
  },
  {
   "cell_type": "markdown",
   "metadata": {},
   "source": [
    "Another perfect model indicating that it's overfit."
   ]
  },
  {
   "cell_type": "markdown",
   "metadata": {},
   "source": [
    "### Boosted Random Forest"
   ]
  },
  {
   "cell_type": "code",
   "execution_count": 23,
   "metadata": {},
   "outputs": [
    {
     "name": "stdout",
     "output_type": "stream",
     "text": [
      "0.9991302289177652\n",
      "\n",
      "Took 1593.075480222702 seconds to calculate.\n"
     ]
    }
   ],
   "source": [
    "# code --> by Riley Dallas from Austin\n",
    "\n",
    "start_time = time.time()\n",
    "\n",
    "ada = AdaBoostClassifier(base_estimator=RandomForestClassifier())\n",
    "ada_params = {\n",
    "    'n_estimators': [50,100],\n",
    "    'base_estimator__max_depth': [1,2],\n",
    "    'learning_rate': [.9, 1.]\n",
    "}\n",
    "gs = GridSearchCV(ada, param_grid=ada_params, cv=3)\n",
    "gs.fit(X_train,y_train.values.ravel())\n",
    "print(gs.best_score_)\n",
    "gs.best_params_\n",
    "\n",
    "end_time = time.time()\n",
    "print()\n",
    "print('Took %s seconds to calculate.' % (end_time - start_time))\n"
   ]
  },
  {
   "cell_type": "code",
   "execution_count": 24,
   "metadata": {},
   "outputs": [
    {
     "data": {
      "text/plain": [
       "1.0"
      ]
     },
     "execution_count": 24,
     "metadata": {},
     "output_type": "execute_result"
    }
   ],
   "source": [
    "# Training set score\n",
    "gs.score(X_train, y_train)"
   ]
  },
  {
   "cell_type": "code",
   "execution_count": 25,
   "metadata": {},
   "outputs": [
    {
     "data": {
      "text/plain": [
       "0.9997992975413948"
      ]
     },
     "execution_count": 25,
     "metadata": {},
     "output_type": "execute_result"
    }
   ],
   "source": [
    "# Testing set score\n",
    "gs.score(X_test, y_test)"
   ]
  },
  {
   "cell_type": "code",
   "execution_count": null,
   "metadata": {},
   "outputs": [],
   "source": []
  },
  {
   "cell_type": "markdown",
   "metadata": {},
   "source": [
    "# Other Ideas"
   ]
  },
  {
   "cell_type": "code",
   "execution_count": 26,
   "metadata": {},
   "outputs": [],
   "source": [
    "# # Create first pipeline for base without reducing features.\n",
    "# start_time = time.time()\n",
    "\n",
    "# pipe = Pipeline([('classifier' , RandomForestClassifier())])\n",
    "# # pipe = Pipeline([('classifier', RandomForestClassifier())])\n",
    "\n",
    "# # Create param grid.\n",
    "\n",
    "# param_grid = [\n",
    "#     {'classifier' : [LogisticRegression()],\n",
    "#      'classifier__penalty' : ['l1', 'l2'],\n",
    "#     'classifier__C' : np.logspace(-4, 4, 20),\n",
    "#     'classifier__solver' : ['liblinear']},\n",
    "#     {'classifier' : [RandomForestClassifier()],\n",
    "#     'classifier__n_estimators' : list(range(10,101,10)),\n",
    "#     'classifier__max_features' : list(range(6,32,5))}\n",
    "# ]\n",
    "\n",
    "# # Create grid search object\n",
    "\n",
    "# clf = GridSearchCV(pipe, param_grid = param_grid, cv = 3, verbose=True, n_jobs=-1)\n",
    "\n",
    "# # Fit on data\n",
    "\n",
    "# best_clf = clf.fit(X_train_sc, y_train)\n",
    "\n",
    "# end_time = time.time()\n",
    "# print()\n",
    "# print('Took %s seconds to calculate.' % (end_time - start_time))\n",
    "\n",
    "# # https://towardsdatascience.com/logistic-regression-model-tuning-with-scikit-learn-part-1-425142e01af5"
   ]
  },
  {
   "cell_type": "code",
   "execution_count": 27,
   "metadata": {},
   "outputs": [],
   "source": [
    "# start_time = time.time()\n",
    "\n",
    "# # Accuracy Scores\n",
    "# score = best_clf.score(X_train_sc, y_train)\n",
    "# print(f'Training Accuracy of Model is: {score}')\n",
    "\n",
    "# score = best_clf.score(X_test_sc, y_test)\n",
    "# print(f'Testing Accuracy of Model is: {score}')\n",
    "\n",
    "# # Cross Val Scores\n",
    "# print()\n",
    "# print('Training Cross Val Score: ', cross_val_score(best_clf, X_train_sc, y_train, cv = 5, n_jobs = -1).mean())\n",
    "# print('Testing Cross Val Score: ', cross_val_score(best_clf, X_test_sc, y_test, cv = 5, n_jobs = -1).mean())\n",
    "\n",
    "# end_time = time.time()\n",
    "# print()\n",
    "# print('Took %s seconds to calculate.' % (end_time - start_time))"
   ]
  },
  {
   "cell_type": "code",
   "execution_count": 28,
   "metadata": {},
   "outputs": [],
   "source": [
    "# best_clf.best_params_"
   ]
  }
 ],
 "metadata": {
  "kernelspec": {
   "display_name": "Python 3",
   "language": "python",
   "name": "python3"
  },
  "language_info": {
   "codemirror_mode": {
    "name": "ipython",
    "version": 3
   },
   "file_extension": ".py",
   "mimetype": "text/x-python",
   "name": "python",
   "nbconvert_exporter": "python",
   "pygments_lexer": "ipython3",
   "version": "3.8.5"
  }
 },
 "nbformat": 4,
 "nbformat_minor": 4
}
